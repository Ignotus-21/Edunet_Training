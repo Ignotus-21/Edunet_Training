{
 "cells": [
  {
   "cell_type": "code",
   "execution_count": 1,
   "metadata": {},
   "outputs": [
    {
     "name": "stdout",
     "output_type": "stream",
     "text": [
      "Requirement already satisfied: roboflow in /usr/local/python/3.10.13/lib/python3.10/site-packages (1.1.12)\n",
      "Requirement already satisfied: certifi==2023.7.22 in /home/codespace/.local/lib/python3.10/site-packages (from roboflow) (2023.7.22)\n",
      "Requirement already satisfied: chardet==4.0.0 in /usr/local/python/3.10.13/lib/python3.10/site-packages (from roboflow) (4.0.0)\n",
      "Requirement already satisfied: cycler==0.10.0 in /usr/local/python/3.10.13/lib/python3.10/site-packages (from roboflow) (0.10.0)\n",
      "Requirement already satisfied: idna==2.10 in /usr/local/python/3.10.13/lib/python3.10/site-packages (from roboflow) (2.10)\n",
      "Requirement already satisfied: kiwisolver>=1.3.1 in /home/codespace/.local/lib/python3.10/site-packages (from roboflow) (1.4.5)\n",
      "Requirement already satisfied: matplotlib in /home/codespace/.local/lib/python3.10/site-packages (from roboflow) (3.8.1)\n",
      "Requirement already satisfied: numpy>=1.18.5 in /home/codespace/.local/lib/python3.10/site-packages (from roboflow) (1.26.2)\n",
      "Requirement already satisfied: opencv-python-headless==4.8.0.74 in /usr/local/python/3.10.13/lib/python3.10/site-packages (from roboflow) (4.8.0.74)\n",
      "Requirement already satisfied: Pillow>=7.1.2 in /home/codespace/.local/lib/python3.10/site-packages (from roboflow) (10.1.0)\n",
      "Requirement already satisfied: pyparsing==2.4.7 in /usr/local/python/3.10.13/lib/python3.10/site-packages (from roboflow) (2.4.7)\n",
      "Requirement already satisfied: python-dateutil in /home/codespace/.local/lib/python3.10/site-packages (from roboflow) (2.8.2)\n",
      "Requirement already satisfied: python-dotenv in /usr/local/python/3.10.13/lib/python3.10/site-packages (from roboflow) (1.0.0)\n",
      "Requirement already satisfied: requests in /home/codespace/.local/lib/python3.10/site-packages (from roboflow) (2.31.0)\n",
      "Requirement already satisfied: six in /home/codespace/.local/lib/python3.10/site-packages (from roboflow) (1.16.0)\n",
      "Requirement already satisfied: supervision in /usr/local/python/3.10.13/lib/python3.10/site-packages (from roboflow) (0.17.1)\n",
      "Requirement already satisfied: urllib3>=1.26.6 in /usr/local/python/3.10.13/lib/python3.10/site-packages (from roboflow) (2.0.7)\n",
      "Requirement already satisfied: tqdm>=4.41.0 in /usr/local/python/3.10.13/lib/python3.10/site-packages (from roboflow) (4.66.1)\n",
      "Requirement already satisfied: PyYAML>=5.3.1 in /home/codespace/.local/lib/python3.10/site-packages (from roboflow) (6.0.1)\n",
      "Requirement already satisfied: requests-toolbelt in /usr/local/python/3.10.13/lib/python3.10/site-packages (from roboflow) (1.0.0)\n",
      "Requirement already satisfied: python-magic in /usr/local/python/3.10.13/lib/python3.10/site-packages (from roboflow) (0.4.27)\n",
      "Requirement already satisfied: contourpy>=1.0.1 in /home/codespace/.local/lib/python3.10/site-packages (from matplotlib->roboflow) (1.2.0)\n",
      "Requirement already satisfied: fonttools>=4.22.0 in /home/codespace/.local/lib/python3.10/site-packages (from matplotlib->roboflow) (4.44.3)\n",
      "Requirement already satisfied: packaging>=20.0 in /home/codespace/.local/lib/python3.10/site-packages (from matplotlib->roboflow) (23.2)\n",
      "Requirement already satisfied: charset-normalizer<4,>=2 in /home/codespace/.local/lib/python3.10/site-packages (from requests->roboflow) (3.3.2)\n",
      "Requirement already satisfied: scipy>=1.9.0 in /home/codespace/.local/lib/python3.10/site-packages (from supervision->roboflow) (1.11.3)\n",
      "loading Roboflow workspace...\n",
      "loading Roboflow project...\n"
     ]
    },
    {
     "name": "stderr",
     "output_type": "stream",
     "text": [
      "Downloading Dataset Version Zip in Food-Detection-8 to yolov5pytorch:: 100%|██████████| 14298/14298 [00:02<00:00, 5882.32it/s] "
     ]
    },
    {
     "name": "stdout",
     "output_type": "stream",
     "text": [
      "\n"
     ]
    },
    {
     "name": "stderr",
     "output_type": "stream",
     "text": [
      "\n",
      "Extracting Dataset Version Zip to Food-Detection-8 in yolov5pytorch:: 100%|██████████| 1176/1176 [00:00<00:00, 4065.18it/s]\n"
     ]
    }
   ],
   "source": [
    "!pip install roboflow\n",
    "from roboflow import Roboflow\n",
    "rf = Roboflow(api_key=\"oaUk4PsHWg8f0MvDxXYY\")\n",
    "project = rf.workspace(\"food-hofna\").project(\"food-detection-fme3o\")\n",
    "dataset = project.version(8).download(\"yolov5\")\n"
   ]
  },
  {
   "cell_type": "code",
   "execution_count": null,
   "metadata": {},
   "outputs": [],
   "source": []
  },
  {
   "cell_type": "code",
   "execution_count": null,
   "metadata": {},
   "outputs": [],
   "source": []
  }
 ],
 "metadata": {
  "kernelspec": {
   "display_name": "Python 3",
   "language": "python",
   "name": "python3"
  },
  "language_info": {
   "codemirror_mode": {
    "name": "ipython",
    "version": 3
   },
   "file_extension": ".py",
   "mimetype": "text/x-python",
   "name": "python",
   "nbconvert_exporter": "python",
   "pygments_lexer": "ipython3",
   "version": "3.10.13"
  }
 },
 "nbformat": 4,
 "nbformat_minor": 2
}
